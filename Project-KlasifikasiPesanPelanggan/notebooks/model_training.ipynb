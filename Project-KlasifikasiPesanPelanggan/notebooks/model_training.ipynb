{
 "cells": [
  {
   "cell_type": "markdown",
   "metadata": {},
   "source": [
    "# Text Classification ISP - Model Training"
   ]
  },
  {
   "cell_type": "code",
   "execution_count": null,
   "metadata": {},
   "outputs": [],
   "source": [
    "import pandas as pd\n",
    "from src.data_preprocessing import load_and_label_dataset, split_dataset\n",
    "from src.model import build_model\n",
    "from src.utils import plot_history\n",
    "\n",
    "df = load_and_label_dataset('../data/dataset_labeled.csv')\n",
    "train_df, test_df = split_dataset(df)\n",
    "\n",
    "print(train_df.head())"
   ]
  }
 ],
 "metadata": {
  "kernelspec": {
   "display_name": "Python 3",
   "language": "python",
   "name": "python3"
  },
  "language_info": {
   "name": "python",
   "version": "3.9"
  }
 },
 "nbformat": 4,
 "nbformat_minor": 2
}
